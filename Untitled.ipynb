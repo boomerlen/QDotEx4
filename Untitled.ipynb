{
 "cells": [
  {
   "cell_type": "code",
   "execution_count": 12,
   "id": "f2fea569",
   "metadata": {},
   "outputs": [],
   "source": [
    "# 1 - 1D Quantum Dot but also with an electric potential"
   ]
  },
  {
   "cell_type": "code",
   "execution_count": 23,
   "id": "163a7c0a",
   "metadata": {},
   "outputs": [],
   "source": [
    "# Declare some overall parameters\n",
    "n = 200\n",
    "F_Init = 0.00005\n",
    "step = 1"
   ]
  },
  {
   "cell_type": "code",
   "execution_count": 24,
   "id": "8ac732cd",
   "metadata": {},
   "outputs": [],
   "source": [
    "# Import numpy\n",
    "import numpy as np\n",
    "from numpy import linalg as LA"
   ]
  },
  {
   "cell_type": "code",
   "execution_count": 25,
   "id": "ee1552d3",
   "metadata": {},
   "outputs": [],
   "source": [
    "# Potential Function V(x)\n",
    "def V(x):\n",
    "    # Paramters\n",
    "    V0 = 0.1\n",
    "    Vb = 0.05\n",
    "    c1 = 95\n",
    "    c2 = 105\n",
    "    a = 60;\n",
    "    b = 140;\n",
    "    \n",
    "    # piecewise potential V(x) \n",
    "    if x <= a:\n",
    "        return V0\n",
    "    if x < c1:\n",
    "        return 0\n",
    "    if x <= c2:\n",
    "        return Vb\n",
    "    if x < b:\n",
    "        return 0\n",
    "    return V0\n"
   ]
  },
  {
   "cell_type": "code",
   "execution_count": 26,
   "id": "8143647c",
   "metadata": {},
   "outputs": [],
   "source": [
    "# Electric Potential Function F(x)\n",
    "def F(strength, x):\n",
    "    return strength * x"
   ]
  },
  {
   "cell_type": "code",
   "execution_count": 27,
   "id": "37234fbc",
   "metadata": {},
   "outputs": [],
   "source": [
    "# Hamiltonian Generator Hamiltonian(F)\n",
    "def Hamiltonian(E_Field):\n",
    "    # Using the typical finite difference approximation of the 2nd derivative \n",
    "    # Parameters\n",
    "    start_x = 0 \n",
    "\n",
    "    # Create new Hamiltonian\n",
    "    new_hamil = np.zeros([n + 1, n + 1])\n",
    "    \n",
    "    # Do first row first (first x)\n",
    "    new_hamil[0, 0] = 1 + V(0) + F(E_Field, 0)\n",
    "    new_hamil[0, 1] = -0.5\n",
    "    \n",
    "    # Iterate through Hamiltonian until last diagonal entry \n",
    "    for x in range(start_x + 1, n, step):\n",
    "        new_hamil[x, x - 1] = -0.5 \n",
    "        new_hamil[x, x] = 1 + V(x) + F(E_Field, x)\n",
    "        new_hamil[x, x + 1] = -0.5\n",
    "        \n",
    "    # Do final row now (final x)\n",
    "    new_hamil[n, n - 1] = -0.5\n",
    "    new_hamil[n, n] = 1 + V(n) + F(E_Field, n)\n",
    "    \n",
    "    # Done\n",
    "    return new_hamil\n"
   ]
  },
  {
   "cell_type": "code",
   "execution_count": 28,
   "id": "772cd437",
   "metadata": {},
   "outputs": [],
   "source": [
    "# From here, we now compute the eigenstates of the setup with the initial electric field\n",
    "\n",
    "# Get initial val hamiltonian\n",
    "hamiltonian = Hamiltonian(F_init)\n",
    "\n",
    "# Compute eigensolutions\n",
    "w, v = LA.eig(hamiltonian)\n",
    "\n",
    "# Sort energies\n",
    "sort_index = w.argsort()\n",
    "w = w[sort_index]\n",
    "v = v[:,sort_index]\n",
    "\n",
    "wavefunction1 = v[:,0]\n",
    "wavefunction2 = v[:,1]\n"
   ]
  },
  {
   "cell_type": "code",
   "execution_count": 35,
   "id": "28175f0d",
   "metadata": {},
   "outputs": [
    {
     "data": {
      "image/png": "[encoded data removed]",
      "text/plain": [
       "<Figure size 432x288 with 1 Axes>"
      ]
     },
     "metadata": {
      "needs_background": "light"
     },
     "output_type": "display_data"
    }
   ],
   "source": [
    "import matplotlib.pyplot as plt\n",
    "\n",
    "# Make an x axis \n",
    "x_axis = np.arange(0, n + 1, step)\n",
    "\n",
    "# Add graphs\n",
    "fig, axis = plt.subplots()\n",
    "\n",
    "axis.plot(x_axis, wavefunction1)\n",
    "axis.plot(x_axis, wavefunction2)\n",
    "\n",
    "# Including the electric potential\n",
    "F_array = F(F_init, x_axis)\n",
    "axis.plot(x_axis, F_array)\n",
    "\n",
    "# Add some nice text\n",
    "axis.set(title=\"1st 2 eigenstates with a potential\")\n",
    "\n",
    "# Display\n",
    "plt.show()"
   ]
  },
  {
   "cell_type": "code",
   "execution_count": 36,
   "id": "15480565",
   "metadata": {},
   "outputs": [],
   "source": [
    "# 2 - Anticrossing"
   ]
  },
  {
   "cell_type": "code",
   "execution_count": 37,
   "id": "de1f590c",
   "metadata": {},
   "outputs": [],
   "source": [
    "# Generates eigenenergies for a QDot in a field of strength given\n",
    "# Returns a tuple of the two lowest eigenenergies calculated\n",
    "def Lowest_Eigenenergies(e_strength):\n",
    "    # Generate Hamiltonian\n",
    "    hamiltonian = Hamiltonian(e_strength)\n",
    "    \n",
    "    # Calculate eigenenergies\n",
    "    w, v = LA.eig(hamiltonian)\n",
    "    sort_index = w.argsort()\n",
    "    \n",
    "    w = w[sort_index]\n",
    "    \n",
    "    lowest_energies = w[0:2]\n",
    "    \n",
    "    return lowest_energies"
   ]
  },
  {
   "cell_type": "code",
   "execution_count": 42,
   "id": "fe224540",
   "metadata": {},
   "outputs": [],
   "source": [
    "# Generates a tuple f arrays of the full E0 and E1 vs electric field\n",
    "\n",
    "# Parameters\n",
    "no_steps = 40\n",
    "\n",
    "def Energies_vs_Field(F_min, F_max):\n",
    "    # Calculate appropriate step\n",
    "    step = (F_max - F_min) / no_steps\n",
    "    \n",
    "    # Declare np.array to output\n",
    "    out_array = np.zeros((2, no_steps))\n",
    "    \n",
    "    # Loop\n",
    "    index = 0\n",
    "    e_field = F_min \n",
    "    \n",
    "    while e_field < (F_max - step):\n",
    "        # Get eigenenergies for e_field\n",
    "        energies = Lowest_Eigenenergies(e_field)\n",
    "        \n",
    "        # Add to output array\n",
    "        out_array[0, index] = energies[0]\n",
    "        out_array[1, index] = energies[1]\n",
    "        \n",
    "        # Increment\n",
    "        index = index + 1\n",
    "        e_field = e_field + step\n",
    "        \n",
    "    return out_array\n",
    "        "
   ]
  },
  {
   "cell_type": "code",
   "execution_count": 43,
   "id": "e037d9ba",
   "metadata": {},
   "outputs": [
    {
     "data": {
      "image/png": "[encoded data removed]",
      "text/plain": [
       "<Figure size 432x288 with 1 Axes>"
      ]
     },
     "metadata": {
      "needs_background": "light"
     },
     "output_type": "display_data"
    }
   ],
   "source": [
    "# First calculation: \n",
    "F_min = -0.00005\n",
    "F_max = 0.00005\n",
    "\n",
    "energies = Energies_vs_Field(F_min, F_max)\n",
    "\n",
    "# Plot these results\n",
    "x_axis = np.arange(F_min, F_max, (F_max - F_min) / no_steps)\n",
    "\n",
    "fig, axis = plt.subplots()\n",
    "axis.plot(x_axis, energies[0,:])\n",
    "axis.plot(x_axis, energies[1,:])\n",
    "\n",
    "axis.set(title=\"Energies vs Electric Field\")\n",
    "\n",
    "plt.show()"
   ]
  },
  {
   "cell_type": "code",
   "execution_count": 45,
   "id": "3ebb465a",
   "metadata": {},
   "outputs": [
    {
     "data": {
      "image/png": "[encoded data removed]",
      "text/plain": [
       "<Figure size 432x288 with 1 Axes>"
      ]
     },
     "metadata": {
      "needs_background": "light"
     },
     "output_type": "display_data"
    }
   ],
   "source": [
    "# And now again but smaller\n",
    "\n",
    "F_min = -0.000005\n",
    "F_max = 0.000005\n",
    "\n",
    "energies = Energies_vs_Field(F_min, F_max)\n",
    "\n",
    "# Plot these results\n",
    "x_axis = np.arange(F_min, F_max, (F_max - F_min) / no_steps)\n",
    "\n",
    "fig, axis = plt.subplots()\n",
    "axis.plot(x_axis, energies[0,:])\n",
    "axis.plot(x_axis, energies[1,:])\n",
    "\n",
    "axis.set(title=\"Energies vs Electric Field\")\n",
    "\n",
    "plt.show()"
   ]
  },
  {
   "cell_type": "code",
   "execution_count": null,
   "id": "4343000f",
   "metadata": {},
   "outputs": [],
   "source": []
  }
 ],
 "metadata": {
  "kernelspec": {
   "display_name": "Python 3",
   "language": "python",
   "name": "python3"
  },
  "language_info": {
   "codemirror_mode": {
    "name": "ipython",
    "version": 3
   },
   "file_extension": ".py",
   "mimetype": "text/x-python",
   "name": "python",
   "nbconvert_exporter": "python",
   "pygments_lexer": "ipython3",
   "version": "3.8.8"
  }
 },
 "nbformat": 4,
 "nbformat_minor": 5
}
